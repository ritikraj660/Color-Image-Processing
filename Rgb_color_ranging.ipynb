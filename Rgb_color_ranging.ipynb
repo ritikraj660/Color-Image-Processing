{
 "cells": [
  {
   "cell_type": "code",
   "execution_count": 1,
   "metadata": {},
   "outputs": [],
   "source": [
    "#Implement colour ranging operation in RGB space on colour images. \n",
    "#The inputs for your operation are a colour image and a colour range specification as \n",
    "#r_c, r_bw, g_c, g_bw, b_c, b_bw where r_c stands for red colour value, r_bw is the \n",
    "#width of the range, i.e., colours between r_c - r_bw and r_c + r_bw must be retained \n",
    "#in the image and all other 'r' values should be set to 0. \n",
    "#The other parameters are for green and blue colours. \n",
    "#You should handle errors when values go out of range."
   ]
  },
  {
   "cell_type": "code",
   "execution_count": 1,
   "metadata": {},
   "outputs": [],
   "source": [
    "import cv2\n",
    "import numpy as np\n",
    "def rgb_color_ranging(r_c, r_bw, g_c, g_bw, b_c, b_bw,imgpath):\n",
    "    # to change negative into positive\n",
    "    if r_c-r_bw < 0:\n",
    "        r_l=0\n",
    "    else:\n",
    "        r_l=r_c-r_bw\n",
    "    \n",
    "    if g_c-g_bw < 0:\n",
    "        g_l=0\n",
    "    else:\n",
    "        g_l=g_c-g_bw\n",
    "    \n",
    "    if b_c-b_bw < 0:\n",
    "        b_l=0\n",
    "    else:\n",
    "        b_l=b_c-b_bw\n",
    "    # to change out of range into positive    \n",
    "    if r_c+r_bw >255:\n",
    "        r_h=255\n",
    "    else:\n",
    "        r_h=r_c+r_bw\n",
    "    \n",
    "    if g_c+g_bw >255:\n",
    "        g_h=255\n",
    "    else:\n",
    "        g_h=g_c+g_bw\n",
    "    \n",
    "    if b_c+b_bw >255:\n",
    "        b_h=255\n",
    "    else:\n",
    "        b_h=b_c+b_bw\n",
    "    \n",
    "    img1=cv2.imread(imgpath)\n",
    "    img=cv2.cvtColor(img1, cv2.COLOR_BGR2RGB) \n",
    "    height,width,n=img.shape\n",
    "    new=np.zeros((height,width,3), np.uint8)\n",
    "    for i in range(0,height):\n",
    "        for j in range(0,width):\n",
    "            if(b_h>=img[i][j][2]>=b_l):\n",
    "                new[i][j][2]=img[i][j][2]\n",
    "            if(g_h>=img[i][j][1]>=g_l):\n",
    "                new[i][j][1]=img[i][j][1]\n",
    "            if(r_h>=img[i][j][0]>=r_l):\n",
    "                new[i][j][0]=img[i][j][0]    \n",
    "    cv2.imshow('Old',img)\n",
    "    cv2.imshow('New',new)\n",
    "    cv2.waitKey(0)\n",
    "    cv2.destroyWindow('Old')\n",
    "    cv2.destroyWindow('New')"
   ]
  },
  {
   "cell_type": "code",
   "execution_count": 2,
   "metadata": {},
   "outputs": [],
   "source": [
    "rgb_color_ranging(120,55,130,125,200,55,'peacock.ppm')\n",
    "rgb_color_ranging(130,55,30,125,20,55,'peacock.ppm')\n",
    "#rgb(120,55,130,125,200,55,'lena_color_256.tif')"
   ]
  },
  {
   "cell_type": "code",
   "execution_count": null,
   "metadata": {},
   "outputs": [],
   "source": []
  }
 ],
 "metadata": {
  "kernelspec": {
   "display_name": "Python 3",
   "language": "python",
   "name": "python3"
  },
  "language_info": {
   "codemirror_mode": {
    "name": "ipython",
    "version": 3
   },
   "file_extension": ".py",
   "mimetype": "text/x-python",
   "name": "python",
   "nbconvert_exporter": "python",
   "pygments_lexer": "ipython3",
   "version": "3.7.1"
  }
 },
 "nbformat": 4,
 "nbformat_minor": 2
}

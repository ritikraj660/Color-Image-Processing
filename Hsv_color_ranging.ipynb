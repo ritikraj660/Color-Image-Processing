{
 "cells": [
  {
   "cell_type": "code",
   "execution_count": 4,
   "metadata": {},
   "outputs": [],
   "source": [
    "#Implement colour ranging operation in HSV space on colour images. \n",
    "#The inputs for your operation are a colour image and a colour range \n",
    "#specification as h_c, h_bw, s_c, v_c where h_c stands for hue value, \n",
    "#h_bw is the width of the range, i.e., colours between h_c - h_bw and\n",
    "#h_c + h_bw must be retained in the image and all other hue values should\n",
    "#be set to 0. The parameter s_c is a saturation threshold. Only those pixels \n",
    "#with saturation value above the threshold should be retained. The parameter \n",
    "#v_c is a value threshold and only pixels with value greater than v_c should be retained. \n",
    "#You should handle errors when values go out of range.\"\"\""
   ]
  },
  {
   "cell_type": "code",
   "execution_count": 5,
   "metadata": {},
   "outputs": [],
   "source": [
    "import cv2\n",
    "import numpy as np\n",
    "def hsv_color_ranging(h_c, h_bw, s_c, v_c,imgpath):\n",
    "    if (h_c-h_bw<0):\n",
    "        h_l=0\n",
    "    else:\n",
    "        h_l=h_c-h_bw\n",
    "     \n",
    "    if (h_c+h_bw>180):\n",
    "        h_h=(h_c+h_bw)%180\n",
    "    else:\n",
    "        h_h=h_c+h_bw\n",
    "        \n",
    "    img=cv2.imread(imgpath)\n",
    "    img1=cv2.cvtColor(img, cv2.COLOR_BGR2HSV)   \n",
    "    height,width,n=img1.shape\n",
    "    newimg=np.zeros((height,width,3), np.uint8)\n",
    "    for i in range(0,height):\n",
    "        for j in range(0,width):\n",
    "            if(h_h>=img1[i][j][0]>=h_l):\n",
    "                newimg[i][j][0]=img1[i][j][0]\n",
    "            if(img1[i][j][1]>s_c):\n",
    "                newimg[i][j][1]=img1[i][j][1]\n",
    "            if(img1[i][j][2]>v_c):\n",
    "                newimg[i][j][2]=img1[i][j][2]\n",
    "    \n",
    "    \n",
    "    cv2.imshow('OLD',img1)\n",
    "    cv2.imshow('NEW',newimg)\n",
    "    cv2.waitKey(0)\n",
    "    cv2.destroyWindow('OLD')\n",
    "    cv2.destroyWindow('NEW')\n",
    "    #brightHSV = cv2.cvtColor(bright, cv2.COLOR_BGR2HSV)"
   ]
  },
  {
   "cell_type": "code",
   "execution_count": 8,
   "metadata": {},
   "outputs": [],
   "source": [
    "hsv_color_ranging(100,40,100,90,'peacock.ppm')\n",
    "hsv_color_ranging(10,40,10,190,'peacock.ppm')"
   ]
  },
  {
   "cell_type": "code",
   "execution_count": null,
   "metadata": {},
   "outputs": [],
   "source": []
  }
 ],
 "metadata": {
  "kernelspec": {
   "display_name": "Python 3",
   "language": "python",
   "name": "python3"
  },
  "language_info": {
   "codemirror_mode": {
    "name": "ipython",
    "version": 3
   },
   "file_extension": ".py",
   "mimetype": "text/x-python",
   "name": "python",
   "nbconvert_exporter": "python",
   "pygments_lexer": "ipython3",
   "version": "3.7.1"
  }
 },
 "nbformat": 4,
 "nbformat_minor": 2
}

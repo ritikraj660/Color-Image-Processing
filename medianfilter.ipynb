{
 "cells": [
  {
   "cell_type": "code",
   "execution_count": 1,
   "metadata": {},
   "outputs": [],
   "source": [
    "from cv2 import * #Import functions from OpenCV\n",
    "import cv2\n",
    "\n",
    "if __name__ == '__main__':\n",
    "    source = cv2.imread(\"lena_color_256.tif\",0)\n",
    "    final = source[:]\n",
    "    for y in range(len(source)):\n",
    "        for x in range(y):\n",
    "            final[y,x]=source[y,x]\n",
    "    \n",
    "    cv2.namedWindow('Source_Picture', cv2.WINDOW_AUTOSIZE)#create window for first image so that we can compare by\n",
    "                                             #ourself\n",
    "    cv2.imshow('Source_Picture', source) #Show the image\n",
    "    members=[source[0,0]]*9\n",
    "    for y in range(1,len(source)-1):\n",
    "        for x in range(1,y-1):\n",
    "            members[0] = source[y-1,x-1]\n",
    "            members[1] = source[y,x-1]\n",
    "            members[2] = source[y+1,x-1]\n",
    "            members[3] = source[y-1,x]\n",
    "            members[4] = source[y,x]\n",
    "            members[5] = source[y+1,x]\n",
    "            members[6] = source[y-1,x+1]\n",
    "            members[7] = source[y,x+1]\n",
    "            members[8] = source[y+1,x+1]\n",
    "            members.sort()\n",
    "            final[y,x]=members[4]\n",
    "\n",
    "    \n",
    "    cv2.namedWindow('Final_Picture', cv2.WINDOW_AUTOSIZE)\n",
    "    cv2.imshow('Final_Picture', final) #Show the image\n",
    "    cv2.waitKey(0)\n",
    "    cv2.destroyWindow('Source_Picture')\n",
    "    cv2.destroyWindow('Final_Picture')"
   ]
  },
  {
   "cell_type": "code",
   "execution_count": null,
   "metadata": {},
   "outputs": [],
   "source": []
  }
 ],
 "metadata": {
  "kernelspec": {
   "display_name": "Python 3",
   "language": "python",
   "name": "python3"
  },
  "language_info": {
   "codemirror_mode": {
    "name": "ipython",
    "version": 3
   },
   "file_extension": ".py",
   "mimetype": "text/x-python",
   "name": "python",
   "nbconvert_exporter": "python",
   "pygments_lexer": "ipython3",
   "version": "3.7.1"
  }
 },
 "nbformat": 4,
 "nbformat_minor": 2
}
